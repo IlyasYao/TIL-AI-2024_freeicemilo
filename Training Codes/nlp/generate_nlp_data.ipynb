{
 "cells": [
  {
   "cell_type": "code",
   "execution_count": 1,
   "id": "e2ff9524-0796-48e8-b5d1-5183813fbb86",
   "metadata": {
    "tags": []
   },
   "outputs": [],
   "source": [
    "import json\n",
    "import pandas as pd\n",
    "import random\n",
    "\n",
    "# Load the JSONL file\n",
    "file_path = \"./nlp.jsonl\"\n",
    "data = []\n",
    "#tool = set()\n",
    "target = []\n",
    "\n",
    "with open(file_path, 'r') as f:\n",
    "    for line in f:\n",
    "        d = json.loads(line)\n",
    "        data.append(d)\n",
    "        #tool.add(d[\"tool\"])\n",
    "        target.append(d[\"target\"])\n",
    "        "
   ]
  },
  {
   "cell_type": "code",
   "execution_count": 2,
   "id": "9d83f11b-ecb9-4156-9136-da57166d40a6",
   "metadata": {
    "tags": []
   },
   "outputs": [],
   "source": [
    "tool = [\n",
    "    'drone catcher', 'interceptor jets', 'surface-to-air missiles', 'EMP', 'electromagnetic pulse', 'machine gun', 'anti-air artillery',\n",
    "    'laser defense system', 'radar-guided missiles', 'heat-seeking missiles', 'anti-drone net', 'signal jammers', 'high-energy laser weapons',\n",
    "    'autonomous interceptor drones', 'stealth fighters', 'flak cannons', 'guided artillery shells', 'anti-aircraft mines', 'decoy flares',\n",
    "    'infrared sensors', 'thermal imaging systems', 'anti-radiation missiles', 'aerial reconnaissance drones', 'phalanx CIWS', 'patriot missile system',\n",
    "    'Iron Dome', 'S-400 missile system', 'THAAD', 'Aegis combat system', 'airborne early warning and control (AEW&C)', 'ballistic missile defense',\n",
    "    'ground-based radar', 'mobile air defense units', 'man-portable air-defense systems (MANPADS)', 'shoulder-launched missiles', 'multi-barrel rocket launchers',\n",
    "    'advanced electronic warfare systems', 'hypersonic weapons', 'combat UAVs', 'air defense frigates', 'antiaircraft batteries', 'kamikaze drones',\n",
    "    'active protection systems', 'tactical ballistic missiles', 'military satellites', 'geostationary satellites', 'combat helicopters', 'air-to-air missiles',\n",
    "    'ground-to-air missiles', 'air-to-surface missiles', 'surface-to-surface missiles', 'precision-guided munitions', 'anti-radiation drones',\n",
    "    'radar absorbent materials', 'carbon-fiber bombs', 'command and control centers', 'mobile command units', 'advanced targeting pods', 'data fusion systems',\n",
    "    'integrated air defense systems', 'counter-rocket, artillery, and mortar (C-RAM)', 'target acquisition radars', 'electronic countermeasures',\n",
    "    'decoy launchers', 'kinetic energy interceptors', 'high-altitude long-endurance (HALE) drones', 'medium-altitude long-endurance (MALE) drones',\n",
    "    'counter-unmanned aircraft systems (C-UAS)', 'passive radar systems', 'balloon-based radars', 'multi-spectral sensors', 'multilayered defense systems',\n",
    "    'directed energy weapons', 'microwave weapons', 'hypersonic glide vehicles', 'advanced flight control systems', 'tethered aerostats', 'aerostat radar systems',\n",
    "    'fiber-optic-guided missiles', 'smart munitions', 'integrated fire control', 'airborne laser systems', 'precision airstrikes', 'digital signal processors',\n",
    "    'adaptive optics', 'hardened aircraft shelters', 'portable radar systems', 'synthetic aperture radar (SAR)', 'moving target indicator (MTI) radar',\n",
    "    'high-frequency surface wave radar', 'over-the-horizon radar', 'ground control stations', 'unmanned combat air vehicles (UCAVs)', 'combat air patrol (CAP)',\n",
    "    'battle management systems', 'target designation lasers', 'ground-based interceptors', 'expendable decoys', 'heat-seeking countermeasures', 'laser rangefinders',\n",
    "    'multi-function radar', 'pulse-Doppler radar', 'fire-and-forget missiles', 'countermeasures dispensing systems', 'combined arms operations'\n",
    "]\n"
   ]
  },
  {
   "cell_type": "code",
   "execution_count": 3,
   "id": "7111fa2a-ee24-444a-aa5a-7f982e22f890",
   "metadata": {
    "tags": []
   },
   "outputs": [],
   "source": [
    "target_filepath = \"./new_data_nlp.json\"\n",
    "\n",
    "target2 = []\n",
    "with open(target_filepath, 'r') as f:\n",
    "    for line in f:\n",
    "        d = json.loads(line)\n",
    "        target2.append(d[\"name\"])\n",
    "\n",
    "target = list(set(target + target2))\n",
    "#tool = list(tool)\n",
    "random.shuffle(target)\n",
    "random.shuffle(tool)"
   ]
  },
  {
   "cell_type": "code",
   "execution_count": 4,
   "id": "5d68ba1b-cdb6-4bfd-aeca-43fdd76723f2",
   "metadata": {
    "tags": []
   },
   "outputs": [
    {
     "name": "stdout",
     "output_type": "stream",
     "text": [
      "['kinetic energy interceptors', 'surface-to-air missiles', 'mobile air defense units', 'command and control centers', 'smart munitions', 'target designation lasers', 'electromagnetic pulse', 'target acquisition radars', 'electronic countermeasures', 'fire-and-forget missiles', 'radar absorbent materials', 'anti-radiation drones', 'drone catcher', 'heat-seeking countermeasures', 'interceptor jets', 'advanced flight control systems', 'unmanned combat air vehicles (UCAVs)', 'aerial reconnaissance drones', 'mobile command units', 'multi-barrel rocket launchers', 'counter-unmanned aircraft systems (C-UAS)', 'expendable decoys', 'signal jammers', 'Aegis combat system', 'passive radar systems', 'directed energy weapons', 'antiaircraft batteries', 'multilayered defense systems', 'man-portable air-defense systems (MANPADS)', 'laser defense system', 'adaptive optics', 'portable radar systems', 'over-the-horizon radar', 'medium-altitude long-endurance (MALE) drones', 'kamikaze drones', 'microwave weapons', 'anti-radiation missiles', 'tactical ballistic missiles', 'decoy flares', 'military satellites', 'ground control stations', 'flak cannons', 'autonomous interceptor drones', 'air defense frigates', 'battle management systems', 'combat helicopters', 'multi-function radar', 'integrated air defense systems', 'fiber-optic-guided missiles', 'air-to-air missiles', 'heat-seeking missiles', 'surface-to-surface missiles', 'machine gun', 'tethered aerostats', 'ground-based radar', 'airborne early warning and control (AEW&C)', 'THAAD', 'patriot missile system', 'advanced targeting pods', 'stealth fighters', 'aerostat radar systems', 'synthetic aperture radar (SAR)', 'pulse-Doppler radar', 'precision airstrikes', 'anti-air artillery', 'anti-drone net', 'counter-rocket, artillery, and mortar (C-RAM)', 'hypersonic glide vehicles', 'Iron Dome', 'air-to-surface missiles', 'countermeasures dispensing systems', 'anti-aircraft mines', 'integrated fire control', 'precision-guided munitions', 'decoy launchers', 'ground-based interceptors', 'ballistic missile defense', 'advanced electronic warfare systems', 'thermal imaging systems', 'airborne laser systems', 'shoulder-launched missiles', 'combat air patrol (CAP)', 'data fusion systems', 'carbon-fiber bombs', 'geostationary satellites', 'moving target indicator (MTI) radar', 'digital signal processors', 'infrared sensors', 'combined arms operations', 'active protection systems', 'S-400 missile system', 'multi-spectral sensors', 'balloon-based radars', 'high-altitude long-endurance (HALE) drones', 'phalanx CIWS', 'high-frequency surface wave radar', 'guided artillery shells', 'combat UAVs', 'hardened aircraft shelters', 'EMP', 'hypersonic weapons', 'high-energy laser weapons', 'laser rangefinders', 'ground-to-air missiles', 'radar-guided missiles']\n"
     ]
    }
   ],
   "source": [
    "print(tool)"
   ]
  },
  {
   "cell_type": "code",
   "execution_count": 5,
   "id": "653050b3-352d-4d0c-8d86-d86d6b8335ca",
   "metadata": {
    "tags": []
   },
   "outputs": [],
   "source": [
    "string_nums = [\n",
    "    \"zero\",\n",
    "    \"one\",\n",
    "    \"two\",\n",
    "    \"three\",\n",
    "    \"four\",\n",
    "    \"five\",\n",
    "    \"six\",\n",
    "    \"seven\",\n",
    "    \"eight\",\n",
    "    \"niner\"\n",
    "]\n",
    "\n",
    "text_to_num = {\n",
    "    \"zero\": \"0\",\n",
    "    \"one\": \"1\",\n",
    "    \"two\": \"2\",\n",
    "    \"three\": \"3\",\n",
    "    \"four\": \"4\",\n",
    "    \"five\": \"5\",\n",
    "    \"six\": \"6\",\n",
    "    \"seven\": \"7\",\n",
    "    \"eight\": \"8\",\n",
    "    \"niner\": \"9\"\n",
    "}\n",
    "\n",
    "\n",
    "def get_heading():\n",
    "    random_elements = random.choices(string_nums, k=3)\n",
    "    # Concatenate the elements into a string\n",
    "    global_heading = \" \".join(random_elements)\n",
    "    return global_heading\n",
    "\n",
    "def get_heading_int(random_elements):\n",
    "    arr_random_elements = random_elements.split()\n",
    "    for i in range(len(arr_random_elements)):\n",
    "        arr_random_elements[i] = text_to_num[arr_random_elements[i]]\n",
    "    return int(\"\".join(arr_random_elements))\n",
    "\n",
    "def get_target():\n",
    "    return \"\".join(random.choices(target))\n",
    "\n",
    "def get_tool():\n",
    "    return \"\".join(random.choices(tool))\n",
    "\n"
   ]
  },
  {
   "cell_type": "code",
   "execution_count": 6,
   "id": "fecd3b0e-fa6e-4c13-9ff0-981a3e191451",
   "metadata": {
    "tags": []
   },
   "outputs": [
    {
     "name": "stdout",
     "output_type": "stream",
     "text": [
      "three eight niner\n"
     ]
    }
   ],
   "source": [
    "print(get_heading())"
   ]
  },
  {
   "cell_type": "code",
   "execution_count": 7,
   "id": "56c1c15d-7c0c-4b42-87b1-abde810da71c",
   "metadata": {
    "tags": []
   },
   "outputs": [],
   "source": [
    "from collections import OrderedDict\n",
    "\n",
    "unique_combinations = set()\n",
    "\n",
    "def generate_json():\n",
    "    global global_heading, global_target, global_tool\n",
    "    \n",
    "    while True:\n",
    "        global_heading, global_target, global_tool = get_heading(), get_target(), get_tool()\n",
    "        global_heading_int = get_heading_int(global_heading)\n",
    "        \n",
    "        # Create a tuple of the current combination\n",
    "        current_combination = (global_heading, global_target, global_tool)\n",
    "        \n",
    "        # Check if this combination is unique\n",
    "        if current_combination not in unique_combinations:\n",
    "            # Add this combination to the set\n",
    "            unique_combinations.add(current_combination)\n",
    "            break\n",
    "    \n",
    "    strings = [\n",
    "        f\"heading is {global_heading}, target is {global_target}, tool to deploy is {global_tool}\",\n",
    "        f\"heading is {global_heading} target is {global_target} tool to deploy is {global_tool}\",\n",
    "        f\"heading is {global_heading}, tool to deploy is {global_tool}, target is {global_target}\",\n",
    "        f\"heading is {global_heading} tool to deploy is {global_tool} target is {global_target}\",\n",
    "        \n",
    "        f\"heading is {global_heading}. target is {global_target}. tool to deploy is {global_tool}.\",\n",
    "        f\"heading is {global_heading}. target is {global_target}. tool to deploy is {global_tool}\",\n",
    "        f\"heading is {global_heading}. target is {global_target} tool to deploy is {global_tool}\",\n",
    "        \n",
    "        f\"heading is {global_heading}. tool to deploy is {global_tool}. target is {global_target}.\",\n",
    "        f\"heading is {global_heading}. tool to deploy is {global_tool}. target is {global_target}\",\n",
    "        f\"heading is {global_heading}. tool to deploy is {global_tool} target is {global_target}\",\n",
    "        \n",
    "        \n",
    "        f\"target is {global_target}, heading is {global_heading}, tool to deploy is {global_tool}\",\n",
    "        f\"target is {global_target} heading is {global_heading} tool to deploy is {global_tool}\",\n",
    "        f\"target is {global_target}, tool to deploy is {global_tool}, heading is {global_heading}\",\n",
    "        f\"target is {global_target} tool to deploy is {global_tool} heading is {global_heading}\",\n",
    "\n",
    "        f\"target is {global_target}. heading is {global_heading}. tool to deploy is {global_tool}.\",\n",
    "        f\"target is {global_target}. heading is {global_heading}. tool to deploy is {global_tool}\",\n",
    "        f\"target is {global_target}. heading is {global_heading} tool to deploy is {global_tool}\",\n",
    "        \n",
    "        f\"target is {global_target}. tool to deploy is {global_tool}. heading is {global_heading}.\",        \n",
    "        f\"target is {global_target}. tool to deploy is {global_tool}. heading is {global_heading}\",        \n",
    "        f\"target is {global_target}. tool to deploy is {global_tool} heading is {global_heading}\",\n",
    "        \n",
    "        \n",
    "        f\"tool to deploy is {global_tool}, heading is {global_heading}, target is {global_target}\",\n",
    "        f\"tool to deploy is {global_tool} heading is {global_heading} target is {global_target}\",\n",
    "        f\"tool to deploy is {global_tool}, target is {global_target}, heading is {global_heading}\",\n",
    "        f\"tool to deploy is {global_tool} target is {global_target} heading is {global_heading}\",\n",
    "\n",
    "        f\"tool to deploy is {global_tool}. heading is {global_heading}. target is {global_target}.\",\n",
    "        f\"tool to deploy is {global_tool}. heading is {global_heading}. target is {global_target}\",\n",
    "        f\"tool to deploy is {global_tool}. heading is {global_heading} target is {global_target}\",\n",
    "        \n",
    "        f\"tool to deploy is {global_tool}. target is {global_target}. heading is {global_heading}.\",\n",
    "        f\"tool to deploy is {global_tool}. target is {global_target}. heading is {global_heading}\",\n",
    "        f\"tool to deploy is {global_tool}. target is {global_target} heading is {global_heading}\",\n",
    "    ]\n",
    "    \n",
    "    output = OrderedDict({\n",
    "        \"key\": None,\n",
    "        \"transcript\": random.choice(strings),\n",
    "        \"tool\": global_tool,\n",
    "        \"heading\": str(global_heading_int),\n",
    "        \"target\": global_target\n",
    "    })\n",
    "    return output"
   ]
  },
  {
   "cell_type": "code",
   "execution_count": 8,
   "id": "48de26e7-0db3-42e4-a3c6-af56f8002c32",
   "metadata": {
    "tags": []
   },
   "outputs": [
    {
     "name": "stdout",
     "output_type": "stream",
     "text": [
      "{'key': 3500, 'transcript': 'tool to deploy is Iron Dome, heading is niner four two, target is green and silver fighter jet', 'tool': 'Iron Dome', 'heading': '942', 'target': 'green and silver fighter jet'}\n",
      "{'key': 3501, 'transcript': 'tool to deploy is multi-barrel rocket launchers. heading is three five one. target is orange, black, and silver light aircraft.', 'tool': 'multi-barrel rocket launchers', 'heading': '351', 'target': 'orange, black, and silver light aircraft'}\n",
      "{'key': 3502, 'transcript': 'target is silver, black, and orange drone heading is six niner five tool to deploy is combat helicopters', 'tool': 'combat helicopters', 'heading': '695', 'target': 'silver, black, and orange drone'}\n",
      "{'key': 3503, 'transcript': 'heading is eight seven five. target is blue, red, and yellow helicopter. tool to deploy is high-energy laser weapons.', 'tool': 'high-energy laser weapons', 'heading': '875', 'target': 'blue, red, and yellow helicopter'}\n",
      "{'key': 3504, 'transcript': 'target is black, white, and grey fighter plane. heading is eight eight four tool to deploy is man-portable air-defense systems (MANPADS)', 'tool': 'man-portable air-defense systems (MANPADS)', 'heading': '884', 'target': 'black, white, and grey fighter plane'}\n"
     ]
    }
   ],
   "source": [
    "import json\n",
    "\n",
    "for i in range(3500, 3505):\n",
    "    output = generate_json()\n",
    "    output[\"key\"] = i\n",
    "               \n",
    "    print(f\"{{'key': {output['key']}, 'transcript': '{output['transcript']}', 'tool': '{output['tool']}', 'heading': '{output['heading']}', 'target': '{output['target']}'}}\")\n"
   ]
  },
  {
   "cell_type": "code",
   "execution_count": 9,
   "id": "c536d313-b906-4bb1-8121-81faa3f78ea1",
   "metadata": {
    "tags": []
   },
   "outputs": [],
   "source": [
    "import json\n",
    "output_list = []\n",
    "for i in range(3500, 30000):\n",
    "    output = generate_json()\n",
    "    output[\"key\"] = i\n",
    "    output_list.append(output)\n",
    "\n",
    "with open('output.jsonl', 'w') as json_file:\n",
    "    for output in output_list:\n",
    "        json_file.write(json.dumps(output) + '\\n')\n"
   ]
  },
  {
   "cell_type": "code",
   "execution_count": null,
   "id": "33f20bf5-30fe-4885-9df7-085cc292fec5",
   "metadata": {},
   "outputs": [],
   "source": []
  }
 ],
 "metadata": {
  "environment": {
   "kernel": "conda-base-py",
   "name": "workbench-notebooks.m120",
   "type": "gcloud",
   "uri": "us-docker.pkg.dev/deeplearning-platform-release/gcr.io/workbench-notebooks:m120"
  },
  "kernelspec": {
   "display_name": "Python 3 (ipykernel)",
   "language": "python",
   "name": "conda-base-py"
  },
  "language_info": {
   "codemirror_mode": {
    "name": "ipython",
    "version": 3
   },
   "file_extension": ".py",
   "mimetype": "text/x-python",
   "name": "python",
   "nbconvert_exporter": "python",
   "pygments_lexer": "ipython3",
   "version": "3.10.14"
  }
 },
 "nbformat": 4,
 "nbformat_minor": 5
}
