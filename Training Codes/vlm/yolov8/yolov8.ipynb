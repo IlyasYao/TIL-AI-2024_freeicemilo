{
 "cells": [
  {
   "cell_type": "code",
   "execution_count": null,
   "id": "c1b2aec0-cf2b-452d-85ed-9f5970e89a77",
   "metadata": {},
   "outputs": [],
   "source": [
    "!pip install ultralytics jsonlines pillow transformers"
   ]
  },
  {
   "cell_type": "markdown",
   "id": "be4d6211-6315-4cbe-8eb9-2e9e3c2f1b5d",
   "metadata": {},
   "source": [
    "## YOLOv8 Model"
   ]
  },
  {
   "cell_type": "code",
   "execution_count": 2,
   "id": "c2b03920-143f-4d91-b627-adc97d7cc962",
   "metadata": {
    "tags": []
   },
   "outputs": [],
   "source": [
    "import torch\n",
    "from ultralytics import YOLO"
   ]
  },
  {
   "cell_type": "code",
   "execution_count": 3,
   "id": "afb1d79e-23db-4118-bee3-5f290cbc2359",
   "metadata": {},
   "outputs": [],
   "source": [
    "# Training configuration\n",
    "data_path = '/home/jupyter/til-24-base/derrick/dataset/model_config.yaml'  # Path to the dataset configuration file\n",
    "epochs = 50  # Number of training epochs\n",
    "imgsz = 640  # Input image size\n",
    "batch_size = 16  # Batch size\n",
    "# optimizers = [\"SGD\", \"Adam\", \"AdamW\"]  # Optimizer Adam, AdamW\n",
    "optimizer = \"SGD\"\n",
    "device = \"cuda\" if torch.cuda.is_available() else \"cpu\""
   ]
  },
  {
   "cell_type": "code",
   "execution_count": 4,
   "id": "d758cebf-e8fd-425f-ad01-77f7e455a8ed",
   "metadata": {},
   "outputs": [],
   "source": [
    "from ultralytics.data.augment import Albumentations\n",
    "from ultralytics.utils import LOGGER, colorstr\n",
    "\n",
    "def __init__(self, p=1.0):\n",
    "        \"\"\"Initialize the transform object for YOLO bbox formatted params.\"\"\"\n",
    "        self.p = p\n",
    "        self.transform = None\n",
    "        prefix = colorstr(\"albumentations: \")\n",
    "        try:\n",
    "            import albumentations as A\n",
    "\n",
    "            # check_version(A.__version__, \"1.0.3\", hard=True)  # version requirement\n",
    "            \n",
    "            # Never normalize\n",
    "            \n",
    "            # Transforms\n",
    "            T = [\n",
    "                A.Blur(blur_limit=7, p=0.2),  # Apply blur with a 20% probability\n",
    "                A.MedianBlur(p=0.01),  # Apply median blur with a 1% probability\n",
    "                A.MotionBlur(blur_limit=7, p=0.2),  # Apply motion blur with a 50% probability\n",
    "                A.HorizontalFlip(p=0.5),  # Flip horizontally with a 100% probability\n",
    "                A.GaussNoise(var_limit=(10.0, 50.0), p=0.2),  # Add Gaussian noise with a 20% probability\n",
    "                A.CLAHE(p=0.01),  # Apply CLAHE with a 1% probability\n",
    "                A.RandomBrightnessContrast(p=0.0),\n",
    "                A.RandomGamma(p=0.0),  # Apply random gamma with a 0% probability (never applied)\n",
    "                A.ImageCompression(quality_lower=75, p=0.0),  # Apply image compression with a 0% probability (never applied)\n",
    "            ]\n",
    "\n",
    "            self.transform = A.Compose(T, bbox_params=A.BboxParams(format=\"yolo\", label_fields=[\"class_labels\"]))\n",
    "\n",
    "            LOGGER.info(prefix + \", \".join(f\"{x}\".replace(\"always_apply=False, \", \"\") for x in T if x.p))\n",
    "        except ImportError:  # package not installed, skip\n",
    "            pass\n",
    "        except Exception as e:\n",
    "            LOGGER.info(f\"{prefix}{e}\")\n",
    "\n",
    "Albumentations.__init__ = __init__"
   ]
  },
  {
   "cell_type": "code",
   "execution_count": null,
   "id": "b0b1597a-608e-48bc-b0c6-f0adf1674612",
   "metadata": {
    "tags": []
   },
   "outputs": [],
   "source": [
    "# Load a model\n",
    "# checkpoint_path = \"runs/detect/train13/weights/best.pt\"\n",
    "model = YOLO(\"yolov8x.pt\").to(device)\n",
    "# model = YOLO(checkpoint_path).to(device)\n"
   ]
  },
  {
   "cell_type": "code",
   "execution_count": null,
   "id": "e810d683-f911-4599-8040-1963f9b980ce",
   "metadata": {},
   "outputs": [],
   "source": [
    "# Display model information (optional)\n",
    "model.info()"
   ]
  },
  {
   "cell_type": "code",
   "execution_count": 6,
   "id": "8b240452-1f79-4fa5-9b95-992a0e7fb985",
   "metadata": {
    "tags": []
   },
   "outputs": [
    {
     "name": "stdout",
     "output_type": "stream",
     "text": [
      "New https://pypi.org/project/ultralytics/8.2.24 available 😃 Update with 'pip install -U ultralytics'\n",
      "Ultralytics YOLOv8.2.18 🚀 Python-3.10.14 torch-2.3.0+cu121 CUDA:0 (Tesla T4, 14918MiB)\n",
      "\u001b[34m\u001b[1mengine/trainer: \u001b[0mtask=detect, mode=train, model=runs/detect/train13/weights/best.pt, data=/home/jupyter/til-24-base/derrick/dataset/model_config.yaml, epochs=50, time=None, patience=100, batch=16, imgsz=640, save=True, save_period=-1, cache=False, device=cuda, workers=8, project=None, name=train6, exist_ok=False, pretrained=True, optimizer=SGD, verbose=True, seed=0, deterministic=True, single_cls=False, rect=False, cos_lr=False, close_mosaic=10, resume=False, amp=True, fraction=1.0, profile=False, freeze=None, multi_scale=False, overlap_mask=True, mask_ratio=4, dropout=0.0, val=True, split=val, save_json=False, save_hybrid=False, conf=None, iou=0.7, max_det=300, half=False, dnn=False, plots=True, source=None, vid_stride=1, stream_buffer=False, visualize=False, augment=False, agnostic_nms=False, classes=None, retina_masks=False, embed=None, show=False, save_frames=False, save_txt=False, save_conf=False, save_crop=False, show_labels=True, show_conf=True, show_boxes=True, line_width=None, format=torchscript, keras=False, optimize=False, int8=False, dynamic=False, simplify=False, opset=None, workspace=4, nms=False, lr0=0.01, lrf=0.01, momentum=0.937, weight_decay=0.0005, warmup_epochs=3.0, warmup_momentum=0.8, warmup_bias_lr=0.1, box=7.5, cls=0.5, dfl=1.5, pose=12.0, kobj=1.0, label_smoothing=0.0, nbs=64, hsv_h=0.015, hsv_s=0.7, hsv_v=0.4, degrees=0.0, translate=0.1, scale=0.5, shear=0.0, perspective=0.0, flipud=0.0, fliplr=0.5, bgr=0.0, mosaic=1.0, mixup=0.0, copy_paste=0.0, auto_augment=randaugment, erasing=0.4, crop_fraction=1.0, cfg=None, tracker=botsort.yaml, save_dir=runs/detect/train6\n",
      "\n",
      "                   from  n    params  module                                       arguments                     \n",
      "  0                  -1  1      2320  ultralytics.nn.modules.conv.Conv             [3, 80, 3, 2]                 \n",
      "  1                  -1  1    115520  ultralytics.nn.modules.conv.Conv             [80, 160, 3, 2]               \n",
      "  2                  -1  3    436800  ultralytics.nn.modules.block.C2f             [160, 160, 3, True]           \n",
      "  3                  -1  1    461440  ultralytics.nn.modules.conv.Conv             [160, 320, 3, 2]              \n",
      "  4                  -1  6   3281920  ultralytics.nn.modules.block.C2f             [320, 320, 6, True]           \n",
      "  5                  -1  1   1844480  ultralytics.nn.modules.conv.Conv             [320, 640, 3, 2]              \n",
      "  6                  -1  6  13117440  ultralytics.nn.modules.block.C2f             [640, 640, 6, True]           \n",
      "  7                  -1  1   3687680  ultralytics.nn.modules.conv.Conv             [640, 640, 3, 2]              \n",
      "  8                  -1  3   6969600  ultralytics.nn.modules.block.C2f             [640, 640, 3, True]           \n",
      "  9                  -1  1   1025920  ultralytics.nn.modules.block.SPPF            [640, 640, 5]                 \n",
      " 10                  -1  1         0  torch.nn.modules.upsampling.Upsample         [None, 2, 'nearest']          \n",
      " 11             [-1, 6]  1         0  ultralytics.nn.modules.conv.Concat           [1]                           \n",
      " 12                  -1  3   7379200  ultralytics.nn.modules.block.C2f             [1280, 640, 3]                \n",
      " 13                  -1  1         0  torch.nn.modules.upsampling.Upsample         [None, 2, 'nearest']          \n",
      " 14             [-1, 4]  1         0  ultralytics.nn.modules.conv.Concat           [1]                           \n",
      " 15                  -1  3   1948800  ultralytics.nn.modules.block.C2f             [960, 320, 3]                 \n",
      " 16                  -1  1    922240  ultralytics.nn.modules.conv.Conv             [320, 320, 3, 2]              \n",
      " 17            [-1, 12]  1         0  ultralytics.nn.modules.conv.Concat           [1]                           \n",
      " 18                  -1  3   7174400  ultralytics.nn.modules.block.C2f             [960, 640, 3]                 \n",
      " 19                  -1  1   3687680  ultralytics.nn.modules.conv.Conv             [640, 640, 3, 2]              \n",
      " 20             [-1, 9]  1         0  ultralytics.nn.modules.conv.Concat           [1]                           \n",
      " 21                  -1  3   7379200  ultralytics.nn.modules.block.C2f             [1280, 640, 3]                \n",
      " 22        [15, 18, 21]  1   8839306  ultralytics.nn.modules.head.Detect           [126, [320, 640, 640]]        \n",
      "Model summary: 365 layers, 68273946 parameters, 68273930 gradients, 258.8 GFLOPs\n",
      "\n",
      "Transferred 595/595 items from pretrained weights\n",
      "Freezing layer 'model.22.dfl.conv.weight'\n",
      "\u001b[34m\u001b[1mAMP: \u001b[0mrunning Automatic Mixed Precision (AMP) checks with YOLOv8n...\n"
     ]
    },
    {
     "name": "stderr",
     "output_type": "stream",
     "text": [
      "/opt/conda/lib/python3.10/site-packages/torch/nn/modules/conv.py:456: UserWarning: Plan failed with a cudnnException: CUDNN_BACKEND_EXECUTION_PLAN_DESCRIPTOR: cudnnFinalize Descriptor Failed cudnn_status: CUDNN_STATUS_NOT_SUPPORTED (Triggered internally at ../aten/src/ATen/native/cudnn/Conv_v8.cpp:919.)\n",
      "  return F.conv2d(input, weight, bias, self.stride,\n"
     ]
    },
    {
     "name": "stdout",
     "output_type": "stream",
     "text": [
      "\u001b[34m\u001b[1mAMP: \u001b[0mchecks passed ✅\n"
     ]
    },
    {
     "name": "stderr",
     "output_type": "stream",
     "text": [
      "\u001b[34m\u001b[1mtrain: \u001b[0mScanning /home/jupyter/til-24-base/derrick/dataset/labels/train.cache... 4000 images, 0 backgrounds, 0 corrupt: 100%|██████████| 4000/4000 [00:00<?, ?it/s]\n",
      "INFO:albumentations.check_version:A new version of Albumentations is available: 1.4.8 (you have 1.4.7). Upgrade using: pip install --upgrade albumentations\n"
     ]
    },
    {
     "name": "stdout",
     "output_type": "stream",
     "text": [
      "\u001b[34m\u001b[1malbumentations: \u001b[0mBlur(p=0.2, blur_limit=(3, 7)), MedianBlur(p=0.01, blur_limit=(3, 7)), MotionBlur(p=0.2, blur_limit=(3, 7), allow_shifted=True), HorizontalFlip(p=0.5), GaussNoise(p=0.2, var_limit=(10.0, 50.0), per_channel=True, mean=0.0), CLAHE(p=0.01, clip_limit=(1, 4.0), tile_grid_size=(8, 8))\n"
     ]
    },
    {
     "name": "stderr",
     "output_type": "stream",
     "text": [
      "\u001b[34m\u001b[1mval: \u001b[0mScanning /home/jupyter/til-24-base/derrick/dataset/labels/val.cache... 1000 images, 0 backgrounds, 0 corrupt: 100%|██████████| 1000/1000 [00:00<?, ?it/s]\n"
     ]
    },
    {
     "name": "stdout",
     "output_type": "stream",
     "text": [
      "Plotting labels to runs/detect/train6/labels.jpg... \n",
      "\u001b[34m\u001b[1moptimizer:\u001b[0m SGD(lr=0.01, momentum=0.937) with parameter groups 97 weight(decay=0.0), 104 weight(decay=0.0005), 103 bias(decay=0.0)\n",
      "Image sizes 640 train, 640 val\n",
      "Using 4 dataloader workers\n",
      "Logging results to \u001b[1mruns/detect/train6\u001b[0m\n",
      "Starting training for 50 epochs...\n",
      "\n",
      "      Epoch    GPU_mem   box_loss   cls_loss   dfl_loss  Instances       Size\n"
     ]
    },
    {
     "name": "stderr",
     "output_type": "stream",
     "text": [
      "       1/50      13.9G     0.7706     0.4951     0.8247        107        640: 100%|██████████| 250/250 [05:07<00:00,  1.23s/it]\n",
      "                 Class     Images  Instances      Box(P          R      mAP50  mAP50-95): 100%|██████████| 32/32 [00:17<00:00,  1.80it/s]"
     ]
    },
    {
     "name": "stdout",
     "output_type": "stream",
     "text": [
      "                   all       1000       2989      0.967      0.947      0.975      0.741\n"
     ]
    },
    {
     "name": "stderr",
     "output_type": "stream",
     "text": [
      "\n"
     ]
    },
    {
     "name": "stdout",
     "output_type": "stream",
     "text": [
      "\n",
      "      Epoch    GPU_mem   box_loss   cls_loss   dfl_loss  Instances       Size\n"
     ]
    },
    {
     "name": "stderr",
     "output_type": "stream",
     "text": [
      "       2/50      14.4G     0.7742     0.4485     0.8235         88        640: 100%|██████████| 250/250 [05:02<00:00,  1.21s/it]\n",
      "                 Class     Images  Instances      Box(P          R      mAP50  mAP50-95): 100%|██████████| 32/32 [00:17<00:00,  1.83it/s]\n"
     ]
    },
    {
     "name": "stdout",
     "output_type": "stream",
     "text": [
      "                   all       1000       2989       0.96       0.95      0.972      0.737\n",
      "\n",
      "      Epoch    GPU_mem   box_loss   cls_loss   dfl_loss  Instances       Size\n"
     ]
    },
    {
     "name": "stderr",
     "output_type": "stream",
     "text": [
      "       3/50      14.4G     0.8394     0.4965     0.8321         82        640: 100%|██████████| 250/250 [05:01<00:00,  1.21s/it]\n",
      "                 Class     Images  Instances      Box(P          R      mAP50  mAP50-95): 100%|██████████| 32/32 [00:17<00:00,  1.84it/s]\n"
     ]
    },
    {
     "name": "stdout",
     "output_type": "stream",
     "text": [
      "                   all       1000       2989      0.949      0.923      0.965      0.726\n",
      "\n",
      "      Epoch    GPU_mem   box_loss   cls_loss   dfl_loss  Instances       Size\n"
     ]
    },
    {
     "name": "stderr",
     "output_type": "stream",
     "text": [
      "       4/50      14.4G     0.9218     0.5801     0.8444         84        640: 100%|██████████| 250/250 [05:01<00:00,  1.20s/it]\n",
      "                 Class     Images  Instances      Box(P          R      mAP50  mAP50-95): 100%|██████████| 32/32 [00:17<00:00,  1.84it/s]\n"
     ]
    },
    {
     "name": "stdout",
     "output_type": "stream",
     "text": [
      "                   all       1000       2989      0.939      0.913      0.955      0.706\n",
      "\n",
      "      Epoch    GPU_mem   box_loss   cls_loss   dfl_loss  Instances       Size\n"
     ]
    },
    {
     "name": "stderr",
     "output_type": "stream",
     "text": [
      "       5/50      14.2G     0.9433     0.5964     0.8467         87        640: 100%|██████████| 250/250 [05:01<00:00,  1.20s/it]\n",
      "                 Class     Images  Instances      Box(P          R      mAP50  mAP50-95): 100%|██████████| 32/32 [00:17<00:00,  1.83it/s]\n"
     ]
    },
    {
     "name": "stdout",
     "output_type": "stream",
     "text": [
      "                   all       1000       2989      0.933      0.897      0.944      0.687\n",
      "\n",
      "      Epoch    GPU_mem   box_loss   cls_loss   dfl_loss  Instances       Size\n"
     ]
    },
    {
     "name": "stderr",
     "output_type": "stream",
     "text": [
      "       6/50      14.4G     0.9523     0.6016     0.8455         84        640: 100%|██████████| 250/250 [05:01<00:00,  1.20s/it]\n",
      "                 Class     Images  Instances      Box(P          R      mAP50  mAP50-95): 100%|██████████| 32/32 [00:17<00:00,  1.84it/s]\n"
     ]
    },
    {
     "name": "stdout",
     "output_type": "stream",
     "text": [
      "                   all       1000       2989      0.939      0.911      0.955      0.693\n",
      "\n",
      "      Epoch    GPU_mem   box_loss   cls_loss   dfl_loss  Instances       Size\n"
     ]
    },
    {
     "name": "stderr",
     "output_type": "stream",
     "text": [
      "       7/50      14.2G     0.9535     0.5959     0.8466        103        640: 100%|██████████| 250/250 [05:01<00:00,  1.20s/it]\n",
      "                 Class     Images  Instances      Box(P          R      mAP50  mAP50-95): 100%|██████████| 32/32 [00:17<00:00,  1.84it/s]\n"
     ]
    },
    {
     "name": "stdout",
     "output_type": "stream",
     "text": [
      "                   all       1000       2989      0.942      0.912      0.954      0.685\n",
      "\n",
      "      Epoch    GPU_mem   box_loss   cls_loss   dfl_loss  Instances       Size\n"
     ]
    },
    {
     "name": "stderr",
     "output_type": "stream",
     "text": [
      "       8/50      14.4G     0.9494     0.5884     0.8474         67        640: 100%|██████████| 250/250 [05:01<00:00,  1.21s/it]\n",
      "                 Class     Images  Instances      Box(P          R      mAP50  mAP50-95): 100%|██████████| 32/32 [00:17<00:00,  1.85it/s]\n"
     ]
    },
    {
     "name": "stdout",
     "output_type": "stream",
     "text": [
      "                   all       1000       2989       0.95      0.912      0.954      0.717\n",
      "\n",
      "      Epoch    GPU_mem   box_loss   cls_loss   dfl_loss  Instances       Size\n"
     ]
    },
    {
     "name": "stderr",
     "output_type": "stream",
     "text": [
      "       9/50      14.2G     0.9493      0.579     0.8461         83        640: 100%|██████████| 250/250 [05:01<00:00,  1.21s/it]\n",
      "                 Class     Images  Instances      Box(P          R      mAP50  mAP50-95): 100%|██████████| 32/32 [00:17<00:00,  1.83it/s]\n"
     ]
    },
    {
     "name": "stdout",
     "output_type": "stream",
     "text": [
      "                   all       1000       2989      0.936      0.927      0.957      0.711\n",
      "\n",
      "      Epoch    GPU_mem   box_loss   cls_loss   dfl_loss  Instances       Size\n"
     ]
    },
    {
     "name": "stderr",
     "output_type": "stream",
     "text": [
      "      10/50      14.4G     0.9519      0.574     0.8478         80        640: 100%|██████████| 250/250 [05:01<00:00,  1.20s/it]\n",
      "                 Class     Images  Instances      Box(P          R      mAP50  mAP50-95): 100%|██████████| 32/32 [00:17<00:00,  1.84it/s]\n"
     ]
    },
    {
     "name": "stdout",
     "output_type": "stream",
     "text": [
      "                   all       1000       2989      0.946      0.918      0.958      0.722\n",
      "\n",
      "      Epoch    GPU_mem   box_loss   cls_loss   dfl_loss  Instances       Size\n"
     ]
    },
    {
     "name": "stderr",
     "output_type": "stream",
     "text": [
      "      11/50      14.2G     0.9324     0.5642     0.8451         68        640: 100%|██████████| 250/250 [05:01<00:00,  1.20s/it]\n",
      "                 Class     Images  Instances      Box(P          R      mAP50  mAP50-95): 100%|██████████| 32/32 [00:17<00:00,  1.84it/s]\n"
     ]
    },
    {
     "name": "stdout",
     "output_type": "stream",
     "text": [
      "                   all       1000       2989       0.95       0.92      0.958      0.714\n",
      "\n",
      "      Epoch    GPU_mem   box_loss   cls_loss   dfl_loss  Instances       Size\n"
     ]
    },
    {
     "name": "stderr",
     "output_type": "stream",
     "text": [
      "      12/50      14.4G     0.9339     0.5669     0.8429         87        640: 100%|██████████| 250/250 [05:01<00:00,  1.20s/it]\n",
      "                 Class     Images  Instances      Box(P          R      mAP50  mAP50-95): 100%|██████████| 32/32 [00:17<00:00,  1.84it/s]\n"
     ]
    },
    {
     "name": "stdout",
     "output_type": "stream",
     "text": [
      "                   all       1000       2989      0.948      0.909      0.954      0.717\n",
      "\n",
      "      Epoch    GPU_mem   box_loss   cls_loss   dfl_loss  Instances       Size\n"
     ]
    },
    {
     "name": "stderr",
     "output_type": "stream",
     "text": [
      "      13/50      14.2G     0.9198     0.5431     0.8413         66        640: 100%|██████████| 250/250 [05:00<00:00,  1.20s/it]\n",
      "                 Class     Images  Instances      Box(P          R      mAP50  mAP50-95): 100%|██████████| 32/32 [00:17<00:00,  1.85it/s]\n"
     ]
    },
    {
     "name": "stdout",
     "output_type": "stream",
     "text": [
      "                   all       1000       2989       0.96      0.925      0.963      0.694\n",
      "\n",
      "      Epoch    GPU_mem   box_loss   cls_loss   dfl_loss  Instances       Size\n"
     ]
    },
    {
     "name": "stderr",
     "output_type": "stream",
     "text": [
      "      14/50      14.4G     0.9154     0.5351      0.841         79        640: 100%|██████████| 250/250 [05:01<00:00,  1.20s/it]\n",
      "                 Class     Images  Instances      Box(P          R      mAP50  mAP50-95): 100%|██████████| 32/32 [00:17<00:00,  1.82it/s]\n"
     ]
    },
    {
     "name": "stdout",
     "output_type": "stream",
     "text": [
      "                   all       1000       2989      0.934       0.92      0.955      0.717\n",
      "\n",
      "      Epoch    GPU_mem   box_loss   cls_loss   dfl_loss  Instances       Size\n"
     ]
    },
    {
     "name": "stderr",
     "output_type": "stream",
     "text": [
      "      15/50      14.2G     0.9091     0.5321     0.8398         98        640: 100%|██████████| 250/250 [05:01<00:00,  1.20s/it]\n",
      "                 Class     Images  Instances      Box(P          R      mAP50  mAP50-95): 100%|██████████| 32/32 [00:17<00:00,  1.84it/s]\n"
     ]
    },
    {
     "name": "stdout",
     "output_type": "stream",
     "text": [
      "                   all       1000       2989      0.959      0.921      0.963       0.72\n",
      "\n",
      "      Epoch    GPU_mem   box_loss   cls_loss   dfl_loss  Instances       Size\n"
     ]
    },
    {
     "name": "stderr",
     "output_type": "stream",
     "text": [
      "      16/50      14.4G      0.902     0.5271     0.8375         79        640: 100%|██████████| 250/250 [05:00<00:00,  1.20s/it]\n",
      "                 Class     Images  Instances      Box(P          R      mAP50  mAP50-95): 100%|██████████| 32/32 [00:17<00:00,  1.85it/s]\n"
     ]
    },
    {
     "name": "stdout",
     "output_type": "stream",
     "text": [
      "                   all       1000       2989      0.949      0.928      0.966      0.715\n",
      "\n",
      "      Epoch    GPU_mem   box_loss   cls_loss   dfl_loss  Instances       Size\n"
     ]
    },
    {
     "name": "stderr",
     "output_type": "stream",
     "text": [
      "      17/50      14.2G      0.893     0.5192     0.8364         74        640: 100%|██████████| 250/250 [05:00<00:00,  1.20s/it]\n",
      "                 Class     Images  Instances      Box(P          R      mAP50  mAP50-95): 100%|██████████| 32/32 [00:17<00:00,  1.83it/s]\n"
     ]
    },
    {
     "name": "stdout",
     "output_type": "stream",
     "text": [
      "                   all       1000       2989       0.95      0.943      0.968      0.727\n",
      "\n",
      "      Epoch    GPU_mem   box_loss   cls_loss   dfl_loss  Instances       Size\n"
     ]
    },
    {
     "name": "stderr",
     "output_type": "stream",
     "text": [
      "      18/50      14.4G     0.8919     0.5054     0.8353         87        640: 100%|██████████| 250/250 [05:01<00:00,  1.20s/it]\n",
      "                 Class     Images  Instances      Box(P          R      mAP50  mAP50-95): 100%|██████████| 32/32 [00:17<00:00,  1.84it/s]\n"
     ]
    },
    {
     "name": "stdout",
     "output_type": "stream",
     "text": [
      "                   all       1000       2989      0.954      0.938      0.966       0.72\n",
      "\n",
      "      Epoch    GPU_mem   box_loss   cls_loss   dfl_loss  Instances       Size\n"
     ]
    },
    {
     "name": "stderr",
     "output_type": "stream",
     "text": [
      "      19/50      14.2G     0.8721     0.5012     0.8345        118        640: 100%|██████████| 250/250 [05:01<00:00,  1.20s/it]\n",
      "                 Class     Images  Instances      Box(P          R      mAP50  mAP50-95): 100%|██████████| 32/32 [00:17<00:00,  1.83it/s]\n"
     ]
    },
    {
     "name": "stdout",
     "output_type": "stream",
     "text": [
      "                   all       1000       2989      0.966      0.923      0.964      0.722\n",
      "\n",
      "      Epoch    GPU_mem   box_loss   cls_loss   dfl_loss  Instances       Size\n"
     ]
    },
    {
     "name": "stderr",
     "output_type": "stream",
     "text": [
      "      20/50      14.4G     0.8748     0.4919     0.8341        104        640: 100%|██████████| 250/250 [05:01<00:00,  1.20s/it]\n",
      "                 Class     Images  Instances      Box(P          R      mAP50  mAP50-95): 100%|██████████| 32/32 [00:17<00:00,  1.85it/s]\n"
     ]
    },
    {
     "name": "stdout",
     "output_type": "stream",
     "text": [
      "                   all       1000       2989      0.955      0.941       0.97       0.73\n",
      "\n",
      "      Epoch    GPU_mem   box_loss   cls_loss   dfl_loss  Instances       Size\n"
     ]
    },
    {
     "name": "stderr",
     "output_type": "stream",
     "text": [
      "      21/50      14.2G     0.8682     0.4821     0.8299         75        640: 100%|██████████| 250/250 [05:00<00:00,  1.20s/it]\n",
      "                 Class     Images  Instances      Box(P          R      mAP50  mAP50-95): 100%|██████████| 32/32 [00:17<00:00,  1.83it/s]\n"
     ]
    },
    {
     "name": "stdout",
     "output_type": "stream",
     "text": [
      "                   all       1000       2989      0.954      0.926      0.963      0.718\n",
      "\n",
      "      Epoch    GPU_mem   box_loss   cls_loss   dfl_loss  Instances       Size\n"
     ]
    },
    {
     "name": "stderr",
     "output_type": "stream",
     "text": [
      "      22/50      14.4G     0.8506     0.4758     0.8312         79        640: 100%|██████████| 250/250 [05:01<00:00,  1.20s/it]\n",
      "                 Class     Images  Instances      Box(P          R      mAP50  mAP50-95): 100%|██████████| 32/32 [00:17<00:00,  1.83it/s]\n"
     ]
    },
    {
     "name": "stdout",
     "output_type": "stream",
     "text": [
      "                   all       1000       2989      0.973      0.926      0.971      0.725\n",
      "\n",
      "      Epoch    GPU_mem   box_loss   cls_loss   dfl_loss  Instances       Size\n"
     ]
    },
    {
     "name": "stderr",
     "output_type": "stream",
     "text": [
      "      23/50      14.2G     0.8705     0.4902     0.8339        106        640: 100%|██████████| 250/250 [05:00<00:00,  1.20s/it]\n",
      "                 Class     Images  Instances      Box(P          R      mAP50  mAP50-95): 100%|██████████| 32/32 [00:17<00:00,  1.84it/s]\n"
     ]
    },
    {
     "name": "stdout",
     "output_type": "stream",
     "text": [
      "                   all       1000       2989      0.962      0.934      0.969      0.727\n",
      "\n",
      "      Epoch    GPU_mem   box_loss   cls_loss   dfl_loss  Instances       Size\n"
     ]
    },
    {
     "name": "stderr",
     "output_type": "stream",
     "text": [
      "      24/50      14.4G     0.8551     0.4739     0.8306         84        640: 100%|██████████| 250/250 [05:01<00:00,  1.20s/it]\n",
      "                 Class     Images  Instances      Box(P          R      mAP50  mAP50-95): 100%|██████████| 32/32 [00:17<00:00,  1.84it/s]\n"
     ]
    },
    {
     "name": "stdout",
     "output_type": "stream",
     "text": [
      "                   all       1000       2989      0.967      0.934       0.97      0.731\n",
      "\n",
      "      Epoch    GPU_mem   box_loss   cls_loss   dfl_loss  Instances       Size\n"
     ]
    },
    {
     "name": "stderr",
     "output_type": "stream",
     "text": [
      "      25/50      14.2G     0.8546     0.4688     0.8313         75        640: 100%|██████████| 250/250 [05:01<00:00,  1.20s/it]\n",
      "                 Class     Images  Instances      Box(P          R      mAP50  mAP50-95): 100%|██████████| 32/32 [00:17<00:00,  1.84it/s]\n"
     ]
    },
    {
     "name": "stdout",
     "output_type": "stream",
     "text": [
      "                   all       1000       2989      0.962      0.939       0.97      0.736\n",
      "\n",
      "      Epoch    GPU_mem   box_loss   cls_loss   dfl_loss  Instances       Size\n"
     ]
    },
    {
     "name": "stderr",
     "output_type": "stream",
     "text": [
      "      26/50      14.4G     0.8377     0.4648     0.8266         81        640: 100%|██████████| 250/250 [05:01<00:00,  1.20s/it]\n",
      "                 Class     Images  Instances      Box(P          R      mAP50  mAP50-95): 100%|██████████| 32/32 [00:17<00:00,  1.84it/s]\n"
     ]
    },
    {
     "name": "stdout",
     "output_type": "stream",
     "text": [
      "                   all       1000       2989      0.966      0.943      0.973      0.733\n",
      "\n",
      "      Epoch    GPU_mem   box_loss   cls_loss   dfl_loss  Instances       Size\n"
     ]
    },
    {
     "name": "stderr",
     "output_type": "stream",
     "text": [
      "      27/50      14.2G     0.8181     0.4485     0.8256         75        640: 100%|██████████| 250/250 [05:01<00:00,  1.21s/it]\n",
      "                 Class     Images  Instances      Box(P          R      mAP50  mAP50-95): 100%|██████████| 32/32 [00:17<00:00,  1.84it/s]\n"
     ]
    },
    {
     "name": "stdout",
     "output_type": "stream",
     "text": [
      "                   all       1000       2989      0.958      0.946      0.971      0.728\n",
      "\n",
      "      Epoch    GPU_mem   box_loss   cls_loss   dfl_loss  Instances       Size\n"
     ]
    },
    {
     "name": "stderr",
     "output_type": "stream",
     "text": [
      "      28/50      14.4G     0.8226     0.4447     0.8261         98        640: 100%|██████████| 250/250 [05:01<00:00,  1.20s/it]\n",
      "                 Class     Images  Instances      Box(P          R      mAP50  mAP50-95): 100%|██████████| 32/32 [00:17<00:00,  1.83it/s]\n"
     ]
    },
    {
     "name": "stdout",
     "output_type": "stream",
     "text": [
      "                   all       1000       2989      0.966      0.946      0.972      0.734\n",
      "\n",
      "      Epoch    GPU_mem   box_loss   cls_loss   dfl_loss  Instances       Size\n"
     ]
    },
    {
     "name": "stderr",
     "output_type": "stream",
     "text": [
      "      29/50      14.2G     0.8211     0.4452     0.8242         87        640: 100%|██████████| 250/250 [05:01<00:00,  1.20s/it]\n",
      "                 Class     Images  Instances      Box(P          R      mAP50  mAP50-95): 100%|██████████| 32/32 [00:17<00:00,  1.84it/s]\n"
     ]
    },
    {
     "name": "stdout",
     "output_type": "stream",
     "text": [
      "                   all       1000       2989      0.969      0.944      0.971      0.738\n",
      "\n",
      "      Epoch    GPU_mem   box_loss   cls_loss   dfl_loss  Instances       Size\n"
     ]
    },
    {
     "name": "stderr",
     "output_type": "stream",
     "text": [
      "      30/50      14.4G     0.8065     0.4364     0.8269         63        640: 100%|██████████| 250/250 [05:01<00:00,  1.20s/it]\n",
      "                 Class     Images  Instances      Box(P          R      mAP50  mAP50-95): 100%|██████████| 32/32 [00:17<00:00,  1.82it/s]\n"
     ]
    },
    {
     "name": "stdout",
     "output_type": "stream",
     "text": [
      "                   all       1000       2989      0.968      0.942      0.973      0.746\n",
      "\n",
      "      Epoch    GPU_mem   box_loss   cls_loss   dfl_loss  Instances       Size\n"
     ]
    },
    {
     "name": "stderr",
     "output_type": "stream",
     "text": [
      "      31/50      14.2G     0.7998     0.4296     0.8239         87        640: 100%|██████████| 250/250 [05:01<00:00,  1.20s/it]\n",
      "                 Class     Images  Instances      Box(P          R      mAP50  mAP50-95): 100%|██████████| 32/32 [00:17<00:00,  1.84it/s]\n"
     ]
    },
    {
     "name": "stdout",
     "output_type": "stream",
     "text": [
      "                   all       1000       2989       0.97      0.938      0.972      0.746\n",
      "\n",
      "      Epoch    GPU_mem   box_loss   cls_loss   dfl_loss  Instances       Size\n"
     ]
    },
    {
     "name": "stderr",
     "output_type": "stream",
     "text": [
      "      32/50      14.4G     0.8029     0.4286     0.8231         79        640: 100%|██████████| 250/250 [05:01<00:00,  1.20s/it]\n",
      "                 Class     Images  Instances      Box(P          R      mAP50  mAP50-95): 100%|██████████| 32/32 [00:17<00:00,  1.83it/s]\n"
     ]
    },
    {
     "name": "stdout",
     "output_type": "stream",
     "text": [
      "                   all       1000       2989      0.968      0.937      0.971      0.737\n",
      "\n",
      "      Epoch    GPU_mem   box_loss   cls_loss   dfl_loss  Instances       Size\n"
     ]
    },
    {
     "name": "stderr",
     "output_type": "stream",
     "text": [
      "      33/50      14.2G     0.7748     0.4147     0.8203         96        640: 100%|██████████| 250/250 [05:01<00:00,  1.20s/it]\n",
      "                 Class     Images  Instances      Box(P          R      mAP50  mAP50-95): 100%|██████████| 32/32 [00:17<00:00,  1.85it/s]\n"
     ]
    },
    {
     "name": "stdout",
     "output_type": "stream",
     "text": [
      "                   all       1000       2989      0.966      0.947      0.975      0.743\n",
      "\n",
      "      Epoch    GPU_mem   box_loss   cls_loss   dfl_loss  Instances       Size\n"
     ]
    },
    {
     "name": "stderr",
     "output_type": "stream",
     "text": [
      "      34/50      14.4G     0.7692     0.4061     0.8185         90        640: 100%|██████████| 250/250 [05:01<00:00,  1.20s/it]\n",
      "                 Class     Images  Instances      Box(P          R      mAP50  mAP50-95): 100%|██████████| 32/32 [00:17<00:00,  1.83it/s]\n"
     ]
    },
    {
     "name": "stdout",
     "output_type": "stream",
     "text": [
      "                   all       1000       2989       0.97      0.946      0.975      0.746\n",
      "\n",
      "      Epoch    GPU_mem   box_loss   cls_loss   dfl_loss  Instances       Size\n"
     ]
    },
    {
     "name": "stderr",
     "output_type": "stream",
     "text": [
      "      35/50      14.2G     0.7657     0.4072     0.8191         91        640: 100%|██████████| 250/250 [05:01<00:00,  1.20s/it]\n",
      "                 Class     Images  Instances      Box(P          R      mAP50  mAP50-95): 100%|██████████| 32/32 [00:17<00:00,  1.82it/s]\n"
     ]
    },
    {
     "name": "stdout",
     "output_type": "stream",
     "text": [
      "                   all       1000       2989      0.973       0.94      0.974      0.747\n",
      "\n",
      "      Epoch    GPU_mem   box_loss   cls_loss   dfl_loss  Instances       Size\n"
     ]
    },
    {
     "name": "stderr",
     "output_type": "stream",
     "text": [
      "      36/50      14.4G     0.7604     0.4025     0.8185         75        640: 100%|██████████| 250/250 [05:01<00:00,  1.21s/it]\n",
      "                 Class     Images  Instances      Box(P          R      mAP50  mAP50-95): 100%|██████████| 32/32 [00:17<00:00,  1.84it/s]\n"
     ]
    },
    {
     "name": "stdout",
     "output_type": "stream",
     "text": [
      "                   all       1000       2989      0.961      0.948      0.974       0.75\n",
      "\n",
      "      Epoch    GPU_mem   box_loss   cls_loss   dfl_loss  Instances       Size\n"
     ]
    },
    {
     "name": "stderr",
     "output_type": "stream",
     "text": [
      "      37/50      14.2G     0.7439     0.3941     0.8152         92        640: 100%|██████████| 250/250 [05:01<00:00,  1.20s/it]\n",
      "                 Class     Images  Instances      Box(P          R      mAP50  mAP50-95): 100%|██████████| 32/32 [00:17<00:00,  1.84it/s]\n"
     ]
    },
    {
     "name": "stdout",
     "output_type": "stream",
     "text": [
      "                   all       1000       2989      0.971      0.945      0.974      0.752\n",
      "\n",
      "      Epoch    GPU_mem   box_loss   cls_loss   dfl_loss  Instances       Size\n"
     ]
    },
    {
     "name": "stderr",
     "output_type": "stream",
     "text": [
      "      38/50      14.4G     0.7272     0.3827     0.8142         70        640: 100%|██████████| 250/250 [05:01<00:00,  1.20s/it]\n",
      "                 Class     Images  Instances      Box(P          R      mAP50  mAP50-95): 100%|██████████| 32/32 [00:17<00:00,  1.83it/s]\n"
     ]
    },
    {
     "name": "stdout",
     "output_type": "stream",
     "text": [
      "                   all       1000       2989      0.971      0.949      0.976      0.755\n",
      "\n",
      "      Epoch    GPU_mem   box_loss   cls_loss   dfl_loss  Instances       Size\n"
     ]
    },
    {
     "name": "stderr",
     "output_type": "stream",
     "text": [
      "      39/50      14.2G     0.7305     0.3804     0.8156         73        640: 100%|██████████| 250/250 [05:01<00:00,  1.20s/it]\n",
      "                 Class     Images  Instances      Box(P          R      mAP50  mAP50-95): 100%|██████████| 32/32 [00:17<00:00,  1.83it/s]\n"
     ]
    },
    {
     "name": "stdout",
     "output_type": "stream",
     "text": [
      "                   all       1000       2989      0.977      0.947      0.975      0.752\n",
      "\n",
      "      Epoch    GPU_mem   box_loss   cls_loss   dfl_loss  Instances       Size\n"
     ]
    },
    {
     "name": "stderr",
     "output_type": "stream",
     "text": [
      "      40/50      14.4G     0.7284     0.3816     0.8152         95        640: 100%|██████████| 250/250 [05:01<00:00,  1.20s/it]\n",
      "                 Class     Images  Instances      Box(P          R      mAP50  mAP50-95): 100%|██████████| 32/32 [00:17<00:00,  1.83it/s]\n"
     ]
    },
    {
     "name": "stdout",
     "output_type": "stream",
     "text": [
      "                   all       1000       2989      0.974      0.951      0.977      0.749\n",
      "Closing dataloader mosaic\n",
      "\u001b[34m\u001b[1malbumentations: \u001b[0mBlur(p=0.2, blur_limit=(3, 7)), MedianBlur(p=0.01, blur_limit=(3, 7)), MotionBlur(p=0.2, blur_limit=(3, 7), allow_shifted=True), HorizontalFlip(p=0.5), GaussNoise(p=0.2, var_limit=(10.0, 50.0), per_channel=True, mean=0.0), CLAHE(p=0.01, clip_limit=(1, 4.0), tile_grid_size=(8, 8))\n",
      "\n",
      "      Epoch    GPU_mem   box_loss   cls_loss   dfl_loss  Instances       Size\n"
     ]
    },
    {
     "name": "stderr",
     "output_type": "stream",
     "text": [
      "      41/50      14.2G     0.6886     0.3357     0.8124         50        640: 100%|██████████| 250/250 [05:01<00:00,  1.21s/it]\n",
      "                 Class     Images  Instances      Box(P          R      mAP50  mAP50-95): 100%|██████████| 32/32 [00:17<00:00,  1.83it/s]\n"
     ]
    },
    {
     "name": "stdout",
     "output_type": "stream",
     "text": [
      "                   all       1000       2989      0.977      0.938      0.973      0.778\n",
      "\n",
      "      Epoch    GPU_mem   box_loss   cls_loss   dfl_loss  Instances       Size\n"
     ]
    },
    {
     "name": "stderr",
     "output_type": "stream",
     "text": [
      "      42/50      14.4G     0.6659     0.3244     0.8097         47        640: 100%|██████████| 250/250 [05:00<00:00,  1.20s/it]\n",
      "                 Class     Images  Instances      Box(P          R      mAP50  mAP50-95): 100%|██████████| 32/32 [00:17<00:00,  1.82it/s]\n"
     ]
    },
    {
     "name": "stdout",
     "output_type": "stream",
     "text": [
      "                   all       1000       2989      0.962      0.949      0.973      0.776\n",
      "\n",
      "      Epoch    GPU_mem   box_loss   cls_loss   dfl_loss  Instances       Size\n"
     ]
    },
    {
     "name": "stderr",
     "output_type": "stream",
     "text": [
      "      43/50      14.2G     0.6648     0.3226     0.8086         47        640: 100%|██████████| 250/250 [05:00<00:00,  1.20s/it]\n",
      "                 Class     Images  Instances      Box(P          R      mAP50  mAP50-95): 100%|██████████| 32/32 [00:17<00:00,  1.82it/s]\n"
     ]
    },
    {
     "name": "stdout",
     "output_type": "stream",
     "text": [
      "                   all       1000       2989      0.969      0.944      0.974      0.777\n",
      "\n",
      "      Epoch    GPU_mem   box_loss   cls_loss   dfl_loss  Instances       Size\n"
     ]
    },
    {
     "name": "stderr",
     "output_type": "stream",
     "text": [
      "      44/50      14.4G     0.6396     0.3094     0.8063         51        640: 100%|██████████| 250/250 [05:00<00:00,  1.20s/it]\n",
      "                 Class     Images  Instances      Box(P          R      mAP50  mAP50-95): 100%|██████████| 32/32 [00:17<00:00,  1.83it/s]\n"
     ]
    },
    {
     "name": "stdout",
     "output_type": "stream",
     "text": [
      "                   all       1000       2989       0.97      0.949      0.974      0.779\n",
      "\n",
      "      Epoch    GPU_mem   box_loss   cls_loss   dfl_loss  Instances       Size\n"
     ]
    },
    {
     "name": "stderr",
     "output_type": "stream",
     "text": [
      "      45/50      14.2G     0.6422     0.3104     0.8071         46        640: 100%|██████████| 250/250 [05:00<00:00,  1.20s/it]\n",
      "                 Class     Images  Instances      Box(P          R      mAP50  mAP50-95): 100%|██████████| 32/32 [00:17<00:00,  1.81it/s]\n"
     ]
    },
    {
     "name": "stdout",
     "output_type": "stream",
     "text": [
      "                   all       1000       2989      0.972      0.943      0.975      0.781\n",
      "\n",
      "      Epoch    GPU_mem   box_loss   cls_loss   dfl_loss  Instances       Size\n"
     ]
    },
    {
     "name": "stderr",
     "output_type": "stream",
     "text": [
      "      46/50      14.4G     0.6376     0.3067     0.8058         52        640: 100%|██████████| 250/250 [05:00<00:00,  1.20s/it]\n",
      "                 Class     Images  Instances      Box(P          R      mAP50  mAP50-95): 100%|██████████| 32/32 [00:17<00:00,  1.83it/s]\n"
     ]
    },
    {
     "name": "stdout",
     "output_type": "stream",
     "text": [
      "                   all       1000       2989      0.977       0.94      0.973      0.782\n",
      "\n",
      "      Epoch    GPU_mem   box_loss   cls_loss   dfl_loss  Instances       Size\n"
     ]
    },
    {
     "name": "stderr",
     "output_type": "stream",
     "text": [
      "      47/50      14.2G     0.6208     0.2991      0.805         52        640: 100%|██████████| 250/250 [05:00<00:00,  1.20s/it]\n",
      "                 Class     Images  Instances      Box(P          R      mAP50  mAP50-95): 100%|██████████| 32/32 [00:17<00:00,  1.82it/s]\n"
     ]
    },
    {
     "name": "stdout",
     "output_type": "stream",
     "text": [
      "                   all       1000       2989      0.978      0.942      0.974      0.781\n",
      "\n",
      "      Epoch    GPU_mem   box_loss   cls_loss   dfl_loss  Instances       Size\n"
     ]
    },
    {
     "name": "stderr",
     "output_type": "stream",
     "text": [
      "      48/50      14.4G     0.6173     0.2971     0.8069         47        640: 100%|██████████| 250/250 [05:00<00:00,  1.20s/it]\n",
      "                 Class     Images  Instances      Box(P          R      mAP50  mAP50-95): 100%|██████████| 32/32 [00:17<00:00,  1.83it/s]\n"
     ]
    },
    {
     "name": "stdout",
     "output_type": "stream",
     "text": [
      "                   all       1000       2989      0.977      0.946      0.974      0.783\n",
      "\n",
      "      Epoch    GPU_mem   box_loss   cls_loss   dfl_loss  Instances       Size\n"
     ]
    },
    {
     "name": "stderr",
     "output_type": "stream",
     "text": [
      "      49/50      14.2G     0.6059     0.2885     0.8025         48        640: 100%|██████████| 250/250 [05:00<00:00,  1.20s/it]\n",
      "                 Class     Images  Instances      Box(P          R      mAP50  mAP50-95): 100%|██████████| 32/32 [00:17<00:00,  1.83it/s]\n"
     ]
    },
    {
     "name": "stdout",
     "output_type": "stream",
     "text": [
      "                   all       1000       2989      0.975      0.948      0.975      0.783\n",
      "\n",
      "      Epoch    GPU_mem   box_loss   cls_loss   dfl_loss  Instances       Size\n"
     ]
    },
    {
     "name": "stderr",
     "output_type": "stream",
     "text": [
      "      50/50      14.4G     0.6087     0.2872     0.8029         44        640: 100%|██████████| 250/250 [05:00<00:00,  1.20s/it]\n",
      "                 Class     Images  Instances      Box(P          R      mAP50  mAP50-95): 100%|██████████| 32/32 [00:17<00:00,  1.81it/s]\n"
     ]
    },
    {
     "name": "stdout",
     "output_type": "stream",
     "text": [
      "                   all       1000       2989      0.974      0.949      0.975      0.784\n",
      "\n",
      "50 epochs completed in 4.492 hours.\n",
      "Optimizer stripped from runs/detect/train6/weights/last.pt, 136.9MB\n",
      "Optimizer stripped from runs/detect/train6/weights/best.pt, 136.9MB\n",
      "\n",
      "Validating runs/detect/train6/weights/best.pt...\n",
      "Ultralytics YOLOv8.2.18 🚀 Python-3.10.14 torch-2.3.0+cu121 CUDA:0 (Tesla T4, 14918MiB)\n",
      "Model summary (fused): 268 layers, 68244906 parameters, 0 gradients, 258.1 GFLOPs\n"
     ]
    },
    {
     "name": "stderr",
     "output_type": "stream",
     "text": [
      "                 Class     Images  Instances      Box(P          R      mAP50  mAP50-95): 100%|██████████| 32/32 [00:18<00:00,  1.78it/s]\n"
     ]
    },
    {
     "name": "stdout",
     "output_type": "stream",
     "text": [
      "                   all       1000       2989      0.975      0.949      0.975      0.784\n",
      "black camouflage fighter jet       1000         27          1      0.996      0.995      0.783\n",
      "white and red light aircraft       1000         19      0.979          1      0.995      0.844\n",
      "black and yellow drone       1000         27          1      0.999      0.995      0.831\n",
      "   green fighter plane       1000         16       0.94      0.979      0.991      0.813\n",
      "black and orange drone       1000         30      0.986          1      0.995      0.855\n",
      "yellow and black fighter plane       1000         24      0.995          1      0.995      0.876\n",
      "yellow commercial aircraft       1000         24      0.982          1      0.995      0.903\n",
      "white and red helicopter       1000         23          1      0.981      0.995      0.784\n",
      "yellow, red, and grey helicopter       1000         33          1      0.985      0.995      0.813\n",
      "        red helicopter       1000         24          1      0.939      0.992      0.752\n",
      "grey and white light aircraft       1000         25      0.951          1      0.995      0.833\n",
      "black and white commercial aircraft       1000         25      0.925      0.988      0.987      0.821\n",
      "   red and black drone       1000         29       0.96          1      0.995      0.845\n",
      "yellow and red light aircraft       1000         32      0.991          1      0.995      0.805\n",
      "         green missile       1000         19      0.981          1      0.995      0.831\n",
      "blue commercial aircraft       1000         22      0.981          1      0.995      0.864\n",
      "green and brown camouflage fighter plane       1000         22          1      0.929      0.964      0.804\n",
      "black and white cargo aircraft       1000          7       0.92      0.857       0.87      0.778\n",
      "    red light aircraft       1000         30      0.988          1      0.995      0.812\n",
      "white and orange commercial aircraft       1000         26      0.984      0.923      0.978       0.83\n",
      "  yellow fighter plane       1000         26          1      0.853      0.995      0.697\n",
      "blue, yellow, and black helicopter       1000         32          1      0.957      0.982      0.794\n",
      "grey and green cargo aircraft       1000         32          1          1      0.995      0.828\n",
      "blue, yellow, and green fighter plane       1000         28      0.986          1      0.995      0.843\n",
      "     white fighter jet       1000         34          1      0.936      0.986      0.788\n",
      "          grey missile       1000         22      0.885      0.636      0.875      0.643\n",
      "blue and red commercial aircraft       1000         19      0.975          1      0.995      0.854\n",
      "grey commercial aircraft       1000         30          1      0.998      0.995      0.734\n",
      "blue and white commercial aircraft       1000          6      0.985          1      0.995      0.699\n",
      "      white helicopter       1000         22          1      0.933      0.995      0.726\n",
      "       blue helicopter       1000         32          1      0.962      0.991      0.737\n",
      "      black helicopter       1000         18      0.983      0.944      0.984      0.698\n",
      "white and black cargo aircraft       1000         12      0.981      0.917      0.989      0.812\n",
      "white, black, and grey missile       1000         29       0.96      0.966      0.971      0.814\n",
      "white, red, and green fighter plane       1000         31      0.985          1      0.995      0.856\n",
      "  grey and red missile       1000         11      0.963          1      0.995       0.73\n",
      "blue, yellow, and white cargo aircraft       1000         24      0.983          1      0.995      0.839\n",
      "green and yellow fighter plane       1000         34      0.987          1      0.995      0.821\n",
      " white and red missile       1000         14      0.969      0.929      0.979       0.84\n",
      "            grey drone       1000         20          1      0.946      0.995      0.772\n",
      "grey and red commercial aircraft       1000         28      0.982          1      0.995      0.858\n",
      "black and white missile       1000         19      0.972          1      0.995      0.827\n",
      "      grey fighter jet       1000         22       0.97      0.591      0.754      0.596\n",
      "black and yellow missile       1000         37      0.987          1      0.995       0.76\n",
      "yellow, red, and blue fighter plane       1000         25      0.992          1      0.995      0.805\n",
      "  white cargo aircraft       1000         26      0.982      0.962      0.973      0.811\n",
      "green and brown camouflage helicopter       1000         20      0.972       0.95      0.954      0.779\n",
      "orange and black fighter jet       1000         35      0.988      0.971      0.984      0.804\n",
      "green and grey helicopter       1000         24      0.954      0.917      0.929      0.786\n",
      "blue and grey fighter jet       1000         27          1      0.996      0.995      0.826\n",
      "grey and red fighter jet       1000         23      0.983          1      0.995      0.868\n",
      "     yellow helicopter       1000         20          1      0.973      0.995      0.776\n",
      "white and grey helicopter       1000         23      0.984          1      0.995      0.793\n",
      "        yellow missile       1000         26      0.984          1      0.995      0.824\n",
      "grey and black fighter plane       1000         21      0.993          1      0.995      0.866\n",
      "white and black fighter plane       1000         26      0.987          1      0.995      0.867\n",
      "white and yellow commercial aircraft       1000         23      0.967          1      0.995      0.884\n",
      "white, blue, and red commercial aircraft       1000         16      0.936      0.908      0.938      0.725\n",
      "    yellow fighter jet       1000         28      0.986      0.964      0.976      0.801\n",
      "red, white, and blue fighter jet       1000         23      0.981          1      0.995      0.785\n",
      "   black fighter plane       1000         18      0.975          1      0.995      0.785\n",
      "    grey fighter plane       1000         29          1       0.92      0.943      0.737\n",
      "red and white fighter plane       1000         13          1      0.732      0.979      0.799\n",
      "           white drone       1000         32          1      0.832      0.959      0.686\n",
      "  silver fighter plane       1000         30      0.985      0.967      0.974      0.845\n",
      "yellow, black, and red helicopter       1000         25      0.977          1      0.995      0.802\n",
      "  green light aircraft       1000         32      0.987          1      0.995      0.863\n",
      "green and white fighter plane       1000         26          1      0.983      0.995      0.806\n",
      "grey camouflage fighter jet       1000         28          1      0.881      0.988      0.755\n",
      "     black fighter jet       1000         28      0.981      0.929      0.941      0.743\n",
      "white and blue fighter plane       1000         25       0.96      0.954      0.992      0.792\n",
      "         white missile       1000         26      0.945      0.656      0.842      0.588\n",
      "grey and yellow fighter plane       1000         22      0.982          1      0.995      0.839\n",
      "white and red commercial aircraft       1000         31      0.907      0.968      0.986      0.771\n",
      "green and brown camouflage fighter jet       1000         29          1      0.997      0.995      0.827\n",
      "   white fighter plane       1000         36          1      0.903      0.953      0.718\n",
      " orange light aircraft       1000         25          1      0.961      0.995      0.815\n",
      "white and blue commercial aircraft       1000         17          1      0.592      0.832      0.653\n",
      "  white light aircraft       1000         25      0.952      0.798      0.907      0.733\n",
      " red and white missile       1000         11      0.894      0.766      0.938      0.645\n",
      "   grey cargo aircraft       1000         28      0.968      0.964      0.992      0.762\n",
      "blue and yellow fighter jet       1000         28      0.946      0.964       0.96      0.736\n",
      "blue and white helicopter       1000          6          1      0.825      0.904      0.672\n",
      "       grey helicopter       1000         27      0.979      0.926      0.938      0.742\n",
      "blue and white missile       1000         39      0.967      0.923      0.975      0.741\n",
      "red and white helicopter       1000         12      0.966          1      0.995      0.763\n",
      "silver and blue fighter plane       1000         32      0.987          1      0.995      0.849\n",
      "white commercial aircraft       1000         31          1       0.72       0.84      0.638\n",
      "black and brown camouflage helicopter       1000         25      0.984          1      0.995      0.862\n",
      "red and white fighter jet       1000         21      0.951      0.931      0.991      0.703\n",
      "green and black missile       1000         19      0.817      0.947      0.973      0.783\n",
      "      green helicopter       1000         25      0.982        0.8      0.857      0.665\n",
      "grey and white fighter plane       1000         25      0.979          1      0.995      0.851\n",
      "       red fighter jet       1000         28      0.989          1      0.995       0.72\n",
      "blue and white light aircraft       1000          6      0.936          1      0.995      0.784\n",
      "blue and red light aircraft       1000         30      0.986          1      0.995      0.827\n",
      "green and black camouflage helicopter       1000         20      0.951       0.98      0.985      0.749\n",
      "white and orange light aircraft       1000         18      0.974          1      0.995      0.862\n",
      "           black drone       1000         24          1      0.898      0.951        0.7\n",
      "grey, red, and blue commercial aircraft       1000         30      0.983      0.967      0.981      0.824\n",
      "blue and green fighter plane       1000         24          1      0.903      0.938      0.781\n",
      "  black cargo aircraft       1000         31      0.985      0.935      0.975      0.779\n",
      "     red fighter plane       1000         31      0.987          1      0.995      0.873\n",
      "blue and yellow helicopter       1000         27      0.977          1      0.995      0.845\n",
      "white and black helicopter       1000         17      0.941      0.882      0.949      0.726\n",
      "white and black light aircraft       1000         24          1       0.95      0.995      0.789\n",
      "white and black fighter jet       1000         25      0.982          1      0.995      0.818\n",
      " white and black drone       1000         25       0.95       0.96      0.964      0.801\n",
      "white and blue cargo aircraft       1000         31      0.957          1      0.995       0.88\n",
      "          blue missile       1000         22          1      0.934      0.993      0.768\n",
      "yellow and green helicopter       1000         14      0.984          1      0.995      0.835\n",
      "red, white, and blue light aircraft       1000         20      0.982          1      0.995      0.699\n",
      "white and blue fighter jet       1000         31          1      0.986      0.995      0.799\n",
      "blue camouflage fighter jet       1000         34      0.986          1      0.995      0.807\n",
      "   grey light aircraft       1000         22          1      0.931      0.962      0.793\n",
      " yellow light aircraft       1000         19          1          1      0.995       0.86\n",
      "grey and black helicopter       1000         28      0.985      0.964      0.976      0.828\n",
      "white and red fighter plane       1000         17      0.834      0.941      0.931      0.578\n",
      "white, black, and red drone       1000         38          1      0.987      0.995      0.805\n",
      "green camouflage helicopter       1000         24          1      0.935      0.968      0.793\n",
      "white and blue helicopter       1000         11      0.915          1      0.995      0.715\n",
      "  red and grey missile       1000         10      0.897      0.877      0.892      0.666\n",
      "white, red, and blue commercial aircraft       1000          9          1      0.943      0.995      0.724\n",
      "white and blue light aircraft       1000         17      0.975      0.941      0.975      0.803\n",
      "red and white light aircraft       1000          2      0.891          1      0.995      0.796\n",
      "white and red fighter jet       1000          2      0.867          1      0.995      0.753\n",
      "Speed: 0.1ms preprocess, 13.7ms inference, 0.0ms loss, 1.0ms postprocess per image\n",
      "Results saved to \u001b[1mruns/detect/train6\u001b[0m\n",
      "Training completed.\n"
     ]
    }
   ],
   "source": [
    "# Train the model\n",
    "model.train(\n",
    "    data=data_path,  # path to the dataset configuration file\n",
    "    epochs=epochs,  # number of training epochs\n",
    "    imgsz=imgsz,  # input image size\n",
    "    batch=batch_size,  # batch size\n",
    "    optimizer=optimizer,\n",
    "    device=device\n",
    ")\n",
    "\n",
    "print(\"Training completed.\")"
   ]
  },
  {
   "cell_type": "code",
   "execution_count": null,
   "id": "1be00451-3084-4f74-a754-16420aa80d40",
   "metadata": {
    "tags": []
   },
   "outputs": [],
   "source": [
    "for optimizer in optimizers:\n",
    "    # Load a model\n",
    "    model = YOLO(\"yolov8x.pt\").to(device)\n",
    "    # Train the model\n",
    "    model.train(\n",
    "        data=data_path,  # path to the dataset configuration file\n",
    "        epochs=epochs,  # number of training epochs\n",
    "        imgsz=imgsz,  # input image size\n",
    "        batch=batch_size,  # batch size\n",
    "        optimizer=optimizer,\n",
    "        device=device\n",
    "    )\n",
    "        # Check if the model has been trained and save the final model with a detailed name\n",
    "    if model.ckpt is not None:\n",
    "        # Access the best mAP metrics from the training logs\n",
    "        mAP50 = model.metrics.results_dict['metrics/mAP50(B)']\n",
    "        mAP50_95 = model.metrics.results_dict['metrics/mAP50-95(B)']\n",
    "        # Construct the model path with detailed information\n",
    "        model_path = f'saved_models/yolov8_model_{optimizer}_mAP50-{mAP50:.4f}_mAP50-95-{mAP50_95:.4f}.pt'\n",
    "        model.save(model_path)\n",
    "        print(f\"Model saved to {model_path}\")\n",
    "    else:\n",
    "        print(f\"Training with {optimizer} did not complete correctly, no model to save.\")\n"
   ]
  },
  {
   "cell_type": "code",
   "execution_count": null,
   "id": "4196a641-d699-4a24-b381-dd282fb2b49d",
   "metadata": {},
   "outputs": [],
   "source": []
  }
 ],
 "metadata": {
  "environment": {
   "kernel": "conda-base-py",
   "name": "workbench-notebooks.m120",
   "type": "gcloud",
   "uri": "us-docker.pkg.dev/deeplearning-platform-release/gcr.io/workbench-notebooks:m120"
  },
  "kernelspec": {
   "display_name": "Python 3 (ipykernel)",
   "language": "python",
   "name": "conda-base-py"
  },
  "language_info": {
   "codemirror_mode": {
    "name": "ipython",
    "version": 3
   },
   "file_extension": ".py",
   "mimetype": "text/x-python",
   "name": "python",
   "nbconvert_exporter": "python",
   "pygments_lexer": "ipython3",
   "version": "3.10.14"
  }
 },
 "nbformat": 4,
 "nbformat_minor": 5
}
